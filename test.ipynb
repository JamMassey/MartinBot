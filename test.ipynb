{
 "cells": [
  {
   "cell_type": "code",
   "execution_count": 6,
   "metadata": {},
   "outputs": [],
   "source": [
    "from pytrends.request import TrendReq\n",
    "\n",
    "pytrends = TrendReq(hl='en-US', tz=360)\n",
    "df = pytrends.trending_searches()"
   ]
  },
  {
   "cell_type": "code",
   "execution_count": 11,
   "metadata": {},
   "outputs": [
    {
     "data": {
      "text/plain": [
       "['Aaron Judge',\n",
       " 'Putin',\n",
       " 'Jalen Hill',\n",
       " 'First day of fall',\n",
       " 'Dahmer',\n",
       " 'Survivor Season 43',\n",
       " 'Tom Hardy',\n",
       " 'Idris Elba',\n",
       " 'Mortgage rates',\n",
       " 'William Shatner',\n",
       " 'Raul Rosas Jr',\n",
       " 'Big Sky',\n",
       " 'Mark Zuckerberg',\n",
       " 'Chicago Fire',\n",
       " 'Jeff Garlin',\n",
       " 'Trombone Champ',\n",
       " 'Earth, Wind and Fire',\n",
       " 'Roger Federer',\n",
       " 'Abbott Elementary, Season 2',\n",
       " 'Giancarlo Stanton']"
      ]
     },
     "execution_count": 11,
     "metadata": {},
     "output_type": "execute_result"
    }
   ],
   "source": [
    "df[0].to_list()"
   ]
  }
 ],
 "metadata": {
  "kernelspec": {
   "display_name": "Python 3.9.13 ('martin')",
   "language": "python",
   "name": "python3"
  },
  "language_info": {
   "codemirror_mode": {
    "name": "ipython",
    "version": 3
   },
   "file_extension": ".py",
   "mimetype": "text/x-python",
   "name": "python",
   "nbconvert_exporter": "python",
   "pygments_lexer": "ipython3",
   "version": "3.9.13"
  },
  "orig_nbformat": 4,
  "vscode": {
   "interpreter": {
    "hash": "221af51ab6951fb926ea9ea4fe8bd0b10641136c1299ba2dc07467250f00e8b7"
   }
  }
 },
 "nbformat": 4,
 "nbformat_minor": 2
}
